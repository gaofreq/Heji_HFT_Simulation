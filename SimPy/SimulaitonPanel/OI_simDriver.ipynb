{
 "cells": [
  {
   "cell_type": "code",
   "execution_count": 1,
   "metadata": {},
   "outputs": [],
   "source": [
    "#### ~~~ modules of Python standard libraries ~~~ ####\n",
    "import pandas as pd \n",
    "import numpy as np \n",
    "import sys \n",
    "import os\n",
    "import re\n",
    "import matplotlib.pyplot as plt\n",
    "from mpl_toolkits.mplot3d import axes3d\n",
    "#### ~~~ user-defined modules ~~~~ ####\n",
    "sys.path.append(\"/Users/gongyun/ResearchPlatform/ResearchTool/Simulation/SimPy3/\")\n",
    "# ~ instrument session ~ #\n",
    "from config import session_spans_sc_ as session_spans\n",
    "from library.prepareData import prepareData\n",
    "from library.simulator.StatsCompare import StatsCompare\n",
    "from library.simParams import simParamsInstance\n",
    "from strategyTemplate.strategyParams import paramsInstance\n",
    "sys.path.append(\"/Users/gongyun/ResearchPlatform/ResearchTool/\")\n",
    "from ResearchUtil import *"
   ]
  },
  {
   "cell_type": "code",
   "execution_count": 2,
   "metadata": {},
   "outputs": [],
   "source": [
    "### ~~~ configure ~~~ ###\n",
    "instrument = \"OI\"\n",
    "volumeRank = 1\n",
    "tradeInstrument = instrument.upper()+\"000\"+str(volumeRank)\n",
    "mainAssistInstrument = \"P0001\"\n",
    "startDate = \"20210125\"\n",
    "endDate = \"20210125\"\n",
    "feeReturnRate = 0.5\n",
    "FEE = 1 *(1-feeReturnRate)\n",
    "openRate = 0.0*(1-feeReturnRate)\n",
    "closeRate = 0.0*(1-feeReturnRate)\n",
    "useRealPredictor = False\n",
    "useOrderLog = True\n",
    "strategy = \"xbow\"\n",
    "simResultName = strategy\n",
    "\n",
    "priceTick = 1\n",
    "multiplier = 10\n",
    "\n",
    "sim_data_dir = '/Users/gongyun/ResearchPlatform/ResearchData/SimulationData/MarketData/'\n",
    "sim_order_dir = '/Users/gongyun/ResearchPlatform/ResearchData/SimulationData/OrderData/'\n",
    "sim_result_dir = '/Users/gongyun/ResearchPlatform/ResearchData/SimulationData/ResultData/'\n",
    "\n",
    "### ~~~ get mkt dates from sim data ~~~ ###     \n",
    "l_date = []    \n",
    "for dirpath,dirnames,filenames in os.walk(sim_data_dir):\n",
    "    for filename in filenames:\n",
    "        if (\"mkt_data\" in filename) and (\".h5\" not in filename):\n",
    "            date = filename[-12:-4]\n",
    "            if (date >= startDate) and (date <= endDate): \n",
    "                l_date.append(date)  \n",
    "l_date.sort()\n",
    "### ~~~ check order log ~~~ ###\n",
    "d_useOrderLog = {}\n",
    "if useOrderLog == False:\n",
    "    for date in l_date:\n",
    "        d_useOrderLog[date]=False\n",
    "elif useOrderLog == True:\n",
    "    for date in l_date:\n",
    "        if os.path.exists(sim_order_dir+tradeInstrument+\"_order_data_\"+date+\".csv\"):\n",
    "            d_useOrderLog[date]=True\n",
    "        else:\n",
    "            d_useOrderLog[date]=False\n",
    "            print(\"There is no order log on \"+date)"
   ]
  },
  {
   "cell_type": "code",
   "execution_count": 3,
   "metadata": {},
   "outputs": [],
   "source": [
    "def simulation(date,tradeInstrument,mainAssistInstrument,strategy,sim_order_dir,useOrderLog,sim_data_dir,sim_result_dir):\n",
    "    ### ~~~ prepare data ~~~ ###\n",
    "    useOrderLog = d_useOrderLog[date]\n",
    "    if useOrderLog:\n",
    "        data = prepareData(\n",
    "\t        sim_datafile_full_path = sim_data_dir+tradeInstrument+\"_mkt_data_\"+date+\".csv\",\n",
    "\t        session_spans = session_spans,  \n",
    "\t        doubleVolumeFlag = False,\n",
    "            order_log_full_path = sim_order_dir+tradeInstrument+\"_order_data_\"+date+\".csv\",\n",
    "\t        )\n",
    "    else:\n",
    "        data = prepareData(\n",
    "\t        sim_datafile_full_path = sim_data_dir+tradeInstrument+\"_mkt_data_\"+date+\".csv\",\n",
    "\t        session_spans = session_spans,  \n",
    "\t        doubleVolumeFlag = False,\n",
    "\t        )        \n",
    "    print(\"finish\")\n",
    "    \n",
    "    insRootDict = {tradeInstrument:0,'P0001':1,'Y0001':2,'RM0001':3,}    \n",
    "    \n",
    "    #### simulation\n",
    "    stats = StatsCompare(\n",
    "\t    dataInputGen = data,\n",
    "\t    paramsList = [ \n",
    "\t\t    [0.4], [0.4], [0.4],        #'fracCut','fractCutImprove', 'fractCutTake',\n",
    "            [2], [100],[1],             #'maxUnitOfRisk','oneSidedMaxPos','maxQuoteSize',\n",
    "            [1.0], [0.3], [0.5], [0.1], #'posPenIntercept', 'posPenCoef', 'posPenLowerBound','posPenLowerBoundCancel',\n",
    "            [0.1], [0.0],               #'minimumEdge', 'minimumEdgeRate',\n",
    "            [1.0],[0.05],[10],         #'alpha','signalScoreB','signalScoreC',\n",
    "            [0.0], [0],                 #'signalFloor','qI',\n",
    "            [0.25],[0.99], [1000.0], [1000.0],[-1000], #'initVar', 'varEwmaDecay', 'volBound4Joining', 'volBound4Improving','volBound4Taking',\n",
    "            [4],                               #'quoteRange',            \n",
    "            [1.0],                             #'improveTick',  \n",
    "            [0.6],[0.1],[0.1],[0.3],           #'theoGamma','theoAlpha','theoGamma2','theoAlpha2',\n",
    "            [-1.0],[-1.0],                     #'minSnapshotVolumeTake', 'minStandizedSignalForTaking',\n",
    "            [False],[0.3], [1.0], [0.2],        #'useExt','minEdge2','cmeScaler','cancelScalerOnAssist',\n",
    "            #[3],[-1],[-1],[-1],[-1],            #'notActivatedAssistInsRoot_1','notActivatedAssistInsRoot_2','notActivatedAssistInsRoot_3','notActivatedAssistInsRoot_4','notActivatedAssistInsRoot_5',    \n",
    "            #[-1],[1],[2],                    #'useTheoReturnAssistInsRoot_1','useTheoReturnAssistInsRoot_2','useTheoReturnAssistInsRoot_3',        \n",
    "            #[True],[0.3],[0.3],[0.3],[0.3],    #'useAssistReturn','assistReturnBeta_1','assistReturnBeta_2','assistReturnBeta_3_H','assistReturnBeta_3_T',\n",
    "            [0.1],[1.0],[0.0],                #'varAlpha4T','varBeta4T', 'varBase4T',\n",
    "            [0.2],[1.0],[0.0],                #'varAlpha4I','varBeta4I', 'varBase4I',\n",
    "            [0.4],[1.0],[0.0],                #'varAlpha4J','varBeta4J', 'varBase4J',\n",
    "            [3000],\n",
    "            [False],[0.0],\n",
    "            [False],[0.0],\n",
    "            [False],[-40],\n",
    "            [1.0],                            #'queueEdgeAlpha',\n",
    "            #[0.0],[0.0],[0.0],               #'G_Factor1','G_Factor2','G_Factor3',\n",
    "            #[0.0],[0.0],[0.0],               #'Y_Factor1','Y_Factor2','Y_Factor3',\n",
    "            #[0.8],\n",
    "            ],\n",
    "        paramNames = [ \n",
    "            'fracCut','fractCutImprove', 'fractCutTake',\n",
    "            'maxUnitOfRisk','oneSidedMaxPos','maxQuoteSize',\n",
    "            'posPenIntercept', 'posPenCoef', 'posPenLowerBound','posPenLowerBoundCancel',\n",
    "            'minimumEdge', 'minimumEdgeRate',\n",
    "            'alpha','signalScoreB','signalScoreC',\n",
    "            'signalFloor','qI',\n",
    "            'initVar', 'varEwmaDecay', 'volBound4Joining', 'volBound4Improving','volBound4Taking',\n",
    "            'quoteRange',   \n",
    "            'improveTick',     \n",
    "            'theoGamma','theoAlpha','theoGamma2','theoAlpha2',\n",
    "            'minSnapshotVolumeTake', 'minStandizedSignalForTaking',\n",
    "            'useExt', 'minEdge2', 'cmeScaler','cancelScalerOnAssist',\n",
    "            #'notActivatedAssistInsRoot_1','notActivatedAssistInsRoot_2','notActivatedAssistInsRoot_3','notActivatedAssistInsRoot_4','notActivatedAssistInsRoot_5',  \n",
    "            #'useTheoReturnAssistInsRoot_1','useTheoReturnAssistInsRoot_2','useTheoReturnAssistInsRoot_3',        \n",
    "            #'useAssistReturn','assistReturnBeta_1','assistReturnBeta_2','assistReturnBeta_3_H','assistReturnBeta_3_T',\n",
    "            'varAlpha4T','varBeta4T', 'varBase4T',\n",
    "            'varAlpha4I','varBeta4I', 'varBase4I',\n",
    "            'varAlpha4J','varBeta4J', 'varBase4J',\n",
    "            'spoofingLevel',\n",
    "            'useIncreAssistTheo','increAssistTheoThreshold',\n",
    "            'useIncreAssistSignal','increAssistSignalThreshold',\n",
    "            'useNewCancel','probCancel',\n",
    "            'queueEdgeAlpha',\n",
    "            #'G_Factor1','G_Factor2','G_Factor3',\n",
    "            #'Y_Factor1','Y_Factor2','Y_Factor3',\n",
    "            #'L_Factor1',\n",
    "            ],\n",
    "        simParamsList = [\n",
    "            [False],[False],[useOrderLog],[FEE/multiplier],[openRate],[closeRate],[np.timedelta64(100000000, 'ns')]#[10.0/1000]\n",
    "            ],\n",
    "        simParamNames = [\n",
    "            'fill1MktVolumeFilter','fill1VolumeConstraintFilter','useOrderLog','PERROUNDFEE','openRate','closeRate','orderLagTime',\n",
    "            ],\n",
    "        )\n",
    "\n",
    "    stats.crossCompare(\n",
    "        params = paramsInstance,\n",
    "        simParams = simParamsInstance,\n",
    "        tradeInsRoot = tradeInstrument,\n",
    "        signalName = 'Pred',\n",
    "        insRootDict = insRootDict,\n",
    "        strategyModule = strategy,   \n",
    "        orderManagerModule = 'orderManager',\n",
    "        dataLenCut=10\n",
    "        )\n",
    "\n",
    "    stats.getStats(cancelFailWeight=1.1498,takingFailWeight=0.2482,improvingFailWeight=0.2498,joinFailWeight=0.2244,allFailWeight=0.0)\n",
    "    stats.getTradeStats()\n",
    "    \n",
    "    #### ~~~ simulation results ~~~ ####\n",
    "    df_table = pd.DataFrame(\n",
    "    np.array([\n",
    "             (stats.statsResults.allSuccessTerminal / stats.statsResults.allSuccessTradeNum).values\n",
    "            ,(stats.statsResults.cancelFailedTerminal / stats.statsResults.cancelFailedTradeNum).values\n",
    "            ,(stats.statsResults.joinFailedTerminal / stats.statsResults.joinFailedTradeNum).values\n",
    "            ,(stats.statsResults.takingFailedTerminal / stats.statsResults.takingFailedTradeNum).values\n",
    "            ,(stats.statsResults.improvingFailedTerminal / stats.statsResults.improvingFailedTradeNum).values\n",
    "            ,(stats.statsResults.allFailedTerminal / stats.statsResults.allFailedTradeNum).values\n",
    "            ,(stats.statsResults.terminal / stats.statsResults.allSuccessTradeNum).values\n",
    "        ]).T * multiplier\n",
    "        , columns=['AllSuccess','CancelF','JoinF', 'TakeF','ImproveF', 'AllF', 'Average']\n",
    "    )\n",
    "\n",
    "    df_parameter = stats.statsResults.T\n",
    "    \n",
    "    ### ~~~ save sim results ~~~ ###\n",
    "    if not os.path.exists(sim_result_dir+date+\"/\"):\n",
    "        os.makedirs(sim_result_dir+date+\"/\")\n",
    "\n",
    "    df_table.to_csv(sim_result_dir+date+\"/\"+instrument+\"_table_\"+date+\".csv\",index=False)\n",
    "    df_parameter.to_csv(sim_result_dir+date+\"/\"+instrument+\"_parameter_\"+date+\".csv\",index=True)\n",
    "    ### ~~~ save sim order results ~~~ ###\n",
    "    for i in range(6):\n",
    "        pd.DataFrame(stats.tradesFrameListOfListByParams[0][0][i]).to_csv(sim_result_dir+date+\"/\"+instrument+\"_trade_log_\"+date+\"_s\"+str(i)+\".csv\",index=False)\n",
    "    for j in range(6):\n",
    "        pd.DataFrame(stats.ordersFrameListOfListByParams[0][0][j]).to_csv(sim_result_dir+date+\"/\"+instrument+\"_order_log_\"+date+\"_s\"+str(j)+\".csv\",index=False)\n",
    "    print(\"#######################################\")\n",
    "    print(\"####### \"+date+\" sim results ##########\")\n",
    "    print(df_table)\n",
    "    print(df_parameter)\n",
    "    print(\"#######################################\")     "
   ]
  },
  {
   "cell_type": "code",
   "execution_count": 4,
   "metadata": {},
   "outputs": [
    {
     "name": "stdout",
     "output_type": "stream",
     "text": [
      "Preparing market data...\n",
      "Preparing order log data...\n",
      "Combining orders...\n"
     ]
    },
    {
     "name": "stderr",
     "output_type": "stream",
     "text": [
      "0it [00:00, ?it/s]\n"
     ]
    },
    {
     "name": "stdout",
     "output_type": "stream",
     "text": [
      "finish\n",
      "Trading instrument: 'OI0001'\n",
      "Using strategy module: 'kronos_base'\n",
      "Using orderManager module: 'orderManager'\n",
      "Parameter set 1 out of 1:\n",
      "Using order log: True\n",
      "Scenario 1 out of 6:\n"
     ]
    },
    {
     "name": "stderr",
     "output_type": "stream",
     "text": [
      "100%|██████████████████████████████████| 1/1 [00:17<00:00, 17.45s/it]\n"
     ]
    },
    {
     "name": "stdout",
     "output_type": "stream",
     "text": [
      "Scenario 2 out of 6:\n"
     ]
    },
    {
     "name": "stderr",
     "output_type": "stream",
     "text": [
      "100%|██████████████████████████████████| 1/1 [00:00<00:00, 12.02it/s]\n"
     ]
    },
    {
     "name": "stdout",
     "output_type": "stream",
     "text": [
      "Scenario 3 out of 6:\n"
     ]
    },
    {
     "name": "stderr",
     "output_type": "stream",
     "text": [
      "100%|██████████████████████████████████| 1/1 [00:00<00:00,  5.50it/s]\n"
     ]
    },
    {
     "name": "stdout",
     "output_type": "stream",
     "text": [
      "Scenario 4 out of 6:\n"
     ]
    },
    {
     "name": "stderr",
     "output_type": "stream",
     "text": [
      "100%|██████████████████████████████████| 1/1 [00:00<00:00, 12.04it/s]\n"
     ]
    },
    {
     "name": "stdout",
     "output_type": "stream",
     "text": [
      "Scenario 5 out of 6:\n"
     ]
    },
    {
     "name": "stderr",
     "output_type": "stream",
     "text": [
      "100%|██████████████████████████████████| 1/1 [00:00<00:00, 12.19it/s]\n"
     ]
    },
    {
     "name": "stdout",
     "output_type": "stream",
     "text": [
      "Scenario 6 out of 6:\n"
     ]
    },
    {
     "name": "stderr",
     "output_type": "stream",
     "text": [
      "100%|██████████████████████████████████| 1/1 [00:00<00:00, 12.24it/s]\n"
     ]
    },
    {
     "name": "stdout",
     "output_type": "stream",
     "text": [
      "#######################################\n",
      "####### 20210125 sim results ##########\n",
      "   AllSuccess  CancelF     JoinF     TakeF  ImproveF      AllF   Average\n",
      "0    3.791237  3.72762  3.771967  3.768692  3.789874  3.649371  3.729712\n",
      "                                           0\n",
      "sharpe                                   NaN\n",
      "terminal                           723.56411\n",
      "sessionlyDrawDown                        0.0\n",
      "sessionlyWinningProb                     1.0\n",
      "maxDailyLoss                       723.56411\n",
      "...                                      ...\n",
      "useOrderLog                             True\n",
      "PERROUNDFEE                             0.05\n",
      "openRate                                 0.0\n",
      "closeRate                                0.0\n",
      "orderLagTime          0 days 00:00:00.100000\n",
      "\n",
      "[86 rows x 1 columns]\n",
      "#######################################\n",
      "Simulation Complete\n"
     ]
    }
   ],
   "source": [
    "for date in l_date:\n",
    "    simulation(date,tradeInstrument,mainAssistInstrument,strategy,sim_order_dir,useOrderLog,sim_data_dir,sim_result_dir)\n",
    "print(\"Simulation Complete\")"
   ]
  },
  {
   "cell_type": "code",
   "execution_count": null,
   "metadata": {},
   "outputs": [],
   "source": []
  },
  {
   "cell_type": "code",
   "execution_count": null,
   "metadata": {},
   "outputs": [],
   "source": []
  },
  {
   "cell_type": "code",
   "execution_count": null,
   "metadata": {},
   "outputs": [],
   "source": []
  },
  {
   "cell_type": "code",
   "execution_count": null,
   "metadata": {},
   "outputs": [],
   "source": []
  },
  {
   "cell_type": "code",
   "execution_count": null,
   "metadata": {},
   "outputs": [],
   "source": []
  },
  {
   "cell_type": "code",
   "execution_count": null,
   "metadata": {},
   "outputs": [],
   "source": []
  },
  {
   "cell_type": "code",
   "execution_count": null,
   "metadata": {},
   "outputs": [],
   "source": []
  },
  {
   "cell_type": "code",
   "execution_count": null,
   "metadata": {},
   "outputs": [],
   "source": []
  },
  {
   "cell_type": "code",
   "execution_count": null,
   "metadata": {},
   "outputs": [],
   "source": []
  },
  {
   "cell_type": "code",
   "execution_count": null,
   "metadata": {},
   "outputs": [],
   "source": []
  },
  {
   "cell_type": "code",
   "execution_count": null,
   "metadata": {},
   "outputs": [],
   "source": []
  }
 ],
 "metadata": {
  "kernelspec": {
   "display_name": "Python 3 (ipykernel)",
   "language": "python",
   "name": "python3"
  },
  "language_info": {
   "codemirror_mode": {
    "name": "ipython",
    "version": 3
   },
   "file_extension": ".py",
   "mimetype": "text/x-python",
   "name": "python",
   "nbconvert_exporter": "python",
   "pygments_lexer": "ipython3",
   "version": "3.9.7"
  }
 },
 "nbformat": 4,
 "nbformat_minor": 4
}
